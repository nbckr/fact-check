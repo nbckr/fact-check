{
 "cells": [
  {
   "cell_type": "markdown",
   "metadata": {},
   "source": [
    "#1: Word count"
   ]
  },
  {
   "cell_type": "markdown",
   "metadata": {},
   "source": []
  },
  {
   "cell_type": "code",
   "execution_count": 6,
   "metadata": {
    "collapsed": true
   },
   "outputs": [
    {
     "name": "stdout",
     "output_type": "stream",
     "text": [
      "Read 10 lines from \"./data/example.jsonl\".\nExtracted 79 words from 10 sentences.\nCounted word frequencies for 79 words (62 unique).\n"
     ]
    }
   ],
   "source": [
    "from src.constants import *\n",
    "from src.jsonl_io import read_jsonl_and_map_to_df\n",
    "from src.wordcount import get_words_breakdown, get_word_counts\n",
    "\n",
    "data = read_jsonl_and_map_to_df(DATA_EXAMPLE_PATH, DATA_COLUMNS)\n",
    "word_list = get_words_breakdown(data['claim'])\n",
    "word_counts = get_word_counts(word_list)\n"
   ]
  },
  {
   "cell_type": "markdown",
   "metadata": {
    "collapsed": true
   },
   "source": [
    "# Plot visualisations"
   ]
  },
  {
   "cell_type": "code",
   "execution_count": 7,
   "metadata": {},
   "outputs": [],
   "source": [
    "import numpy as np\n",
    "import matplotlib.pyplot as plt\n",
    "\n",
    "distinct_words = [count[0] for count in word_counts]\n",
    "distinct_counts = [count[1] for count in word_counts]\n",
    "\n",
    "indexes = np.arange(len(distinct_words))\n",
    "width = 1\n",
    "plt.bar(indexes, distinct_counts, width)\n",
    "plt.xticks(indexes + width * 0.5, None)\n",
    "plt.loglog()\n",
    "#plt.semilogy()\n",
    "#plt.xlim(100)\n",
    "plt.show()\n"
   ]
  },
  {
   "cell_type": "code",
   "execution_count": null,
   "metadata": {},
   "outputs": [],
   "source": []
  }
 ],
 "metadata": {
  "kernelspec": {
   "display_name": "Python 2",
   "language": "python",
   "name": "python2"
  },
  "language_info": {
   "codemirror_mode": {
    "name": "ipython",
    "version": 2
   },
   "file_extension": ".py",
   "mimetype": "text/x-python",
   "name": "python",
   "nbconvert_exporter": "python",
   "pygments_lexer": "ipython2",
   "version": "2.7.6"
  }
 },
 "nbformat": 4,
 "nbformat_minor": 0
}
