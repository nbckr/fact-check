{
 "cells": [
  {
   "cell_type": "markdown",
   "metadata": {},
   "source": [
    "#1: Word count"
   ]
  },
  {
   "cell_type": "markdown",
   "metadata": {},
   "source": []
  },
  {
   "cell_type": "code",
   "execution_count": 2,
   "metadata": {
    "collapsed": false
   },
   "outputs": [
    {
     "name": "stdout",
     "output_type": "stream",
     "text": [
      "Read 19998 lines from \"./data/shared_task_dev_public.jsonl\".\nExtracted 166676 words from 19998 sentences.\n"
     ]
    },
    {
     "name": "stdout",
     "output_type": "stream",
     "text": [
      "Counted word frequencies for 166676 words (13927 unique).\n"
     ]
    }
   ],
   "source": [
    "from src.constants import DATA_DEV_UNLABELED_PATH, DATA_COLUMNS_UNLABELED\n",
    "from src.jsonl_io import read_jsonl_and_map_to_df\n",
    "from src.wordcount import get_words_breakdown, get_word_counts\n",
    "\n",
    "data = read_jsonl_and_map_to_df(DATA_DEV_UNLABELED_PATH, DATA_COLUMNS_UNLABELED)\n",
    "\n",
    "word_list = get_words_breakdown(data['claim'])\n",
    "word_counts = get_word_counts(word_list)\n",
    "\n",
    "distinct_words = [count[0] for count in word_counts]\n",
    "distinct_counts = [count[1] for count in word_counts]"
   ]
  },
  {
   "cell_type": "markdown",
   "metadata": {
    "collapsed": true
   },
   "source": [
    "# Plot visualisations"
   ]
  },
  {
   "cell_type": "code",
   "execution_count": 3,
   "metadata": {},
   "outputs": [],
   "source": [
    "import numpy as np\n",
    "import matplotlib.pyplot as plt\n",
    "\n",
    "# log-log bar chart\n",
    "\n",
    "indexes = np.arange(len(distinct_words))\n",
    "width = 1\n",
    "plt.bar(indexes, distinct_counts, width)\n",
    "plt.xticks(indexes + width * 0.5, None)\n",
    "plt.loglog()\n",
    "#plt.semilogy()\n",
    "#plt.xlim(100)\n",
    "plt.show()\n"
   ]
  },
  {
   "cell_type": "code",
   "execution_count": null,
   "metadata": {},
   "outputs": [],
   "source": [
    "# https://www.pythonmembers.club/2018/05/08/matplotlib-scatter-plot-annotate-set-text-at-label-each-point/\n",
    "import numpy as np\n",
    "import matplotlib.pyplot as plt\n",
    "\n",
    "# linear scatter plot, limited to top\n",
    "\n",
    "for i, word in enumerate(distinct_words):\n",
    "    x = i\n",
    "    y = distinct_counts[i]\n",
    "    plt.scatter(x, y, marker='x', color='red')\n",
    "    plt.text(x+0.3, y+0.3, word, fontsize=9)\n",
    "\n",
    "plt.show()\n"
   ]
  },
  {
   "cell_type": "code",
   "execution_count": null,
   "metadata": {},
   "outputs": [],
   "source": []
  }
 ],
 "metadata": {
  "kernelspec": {
   "display_name": "Python 2",
   "language": "python",
   "name": "python2"
  },
  "language_info": {
   "codemirror_mode": {
    "name": "ipython",
    "version": 2
   },
   "file_extension": ".py",
   "mimetype": "text/x-python",
   "name": "python",
   "nbconvert_exporter": "python",
   "pygments_lexer": "ipython2",
   "version": "2.7.6"
  }
 },
 "nbformat": 4,
 "nbformat_minor": 0
}
