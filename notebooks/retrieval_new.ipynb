{
 "cells": [
  {
   "cell_type": "markdown",
   "metadata": {},
   "source": [
    "#1: Word count"
   ]
  },
  {
   "cell_type": "markdown",
   "metadata": {},
   "source": []
  },
  {
   "cell_type": "code",
   "execution_count": 1,
   "metadata": {
    "collapsed": false
   },
   "outputs": [],
   "source": [
    "DATA_BASE_PATH = './data/'\n",
    "DATA_EXAMPLE_PATH = DATA_BASE_PATH + 'example.jsonl'\n",
    "DATA_TRAINING_PATH = DATA_BASE_PATH + 'train.jsonl'\n",
    "DATA_DEV_UNLABELED_PATH = DATA_BASE_PATH + 'shared_task_dev_public.jsonl'\n",
    "DATA_DEV_LABELED_PATH = DATA_BASE_PATH + 'shared_task_dev.jsonl'\n",
    "\n",
    "DATA_COLUMNS_UNLABELED = ['id', 'claim']\n",
    "DATA_COLUMNS_LABELED = ['id', 'verifiable', 'label', 'claim', 'evidence']"
   ]
  },
  {
   "cell_type": "code",
   "execution_count": 2,
   "metadata": {
    "collapsed": false
   },
   "outputs": [
    {
     "name": "stdout",
     "output_type": "stream",
     "text": [
      "Read 145449 lines from \"./data/train.jsonl\".\n"
     ]
    }
   ],
   "source": [
    "import jsonlines\n",
    "import pandas as pd\n",
    "\n",
    "def read_jsonl_and_map_to_df(jsonl_path: str, columns: list) -> pd.DataFrame:\n",
    "    items = []\n",
    "    with jsonlines.open(jsonl_path) as reader:\n",
    "        for fact in reader:\n",
    "            items.append(fact)\n",
    "    itemsDF = pd.DataFrame(items, columns=columns)\n",
    "    print('Read {} lines from \"{}\".'.format(len(items), jsonl_path))\n",
    "    return itemsDF\n",
    "\n",
    "data = read_jsonl_and_map_to_df(DATA_TRAINING_PATH, DATA_COLUMNS_LABELED)"
   ]
  },
  {
   "cell_type": "code",
   "execution_count": null,
   "metadata": {
    "collapsed": false
   },
   "outputs": [
    {
     "name": "stdout",
     "output_type": "stream",
     "text": [
      "Read 145449 lines from \"./data/train.jsonl\".\n"
     ]
    }
   ],
   "source": [
    "from collections import Counter\n",
    "import pandas as pd\n",
    "\n",
    "\n",
    "def get_words_breakdown(df: pd.DataFrame):\n",
    "    words = []\n",
    "    for row in df:\n",
    "        words.extend(row.split(\" \"))\n",
    "\n",
    "    print(\"Extracted {:,} words from {:,} sentences.\".format(len(words), len(df)))\n",
    "    return words\n",
    "\n",
    "\n",
    "def get_word_counts(words: list, lower: bool = True, sort: bool = True) -> list:\n",
    "    if lower:\n",
    "        words = list(map(lambda x: str(x).lower(), words))\n",
    "    counter = Counter(words)\n",
    "\n",
    "    print(\"Counted word frequencies for {:,} words ({:,} unique).\".format(len(words), len(counter.keys())))\n",
    "    if sort:\n",
    "        return counter.most_common()\n",
    "    return list(counter.items())\n",
    "\n",
    "word_list = get_words_breakdown(data['claim'])\n",
    "word_counts = get_word_counts(word_list)\n",
    "\n",
    "distinct_words = [count[0] for count in word_counts]\n",
    "distinct_counts = [count[1] for count in word_counts]\n"
   ]
  },
  {
   "cell_type": "markdown",
   "metadata": {
    "collapsed": true
   },
   "source": [
    "# Plot visualisations"
   ]
  },
  {
   "cell_type": "code",
   "execution_count": 5,
   "metadata": {},
   "outputs": [],
   "source": [
    "import numpy as np\n",
    "import matplotlib.pyplot as plt\n",
    "\n",
    "# log-log bar chart\n",
    "\n",
    "indexes = np.arange(len(distinct_words))\n",
    "width = 1\n",
    "plt.bar(indexes, distinct_counts, width)\n",
    "plt.xticks(indexes + width * 0.5, None)\n",
    "plt.loglog()\n",
    "#plt.semilogy()\n",
    "#plt.xlim(100)\n",
    "plt.show()\n"
   ]
  },
  {
   "cell_type": "code",
   "execution_count": null,
   "metadata": {},
   "outputs": [],
   "source": [
    "# https://www.pythonmembers.club/2018/05/08/matplotlib-scatter-plot-annotate-set-text-at-label-each-point/\n",
    "import numpy as np\n",
    "import matplotlib.pyplot as plt\n",
    "\n",
    "# linear scatter plot, limited to top\n",
    "\n",
    "for i, word in enumerate(distinct_words):\n",
    "    x = i\n",
    "    y = distinct_counts[i]\n",
    "    plt.scatter(x, y, marker='x', color='red')\n",
    "    plt.text(x+0.3, y+0.3, word, fontsize=9)\n",
    "\n",
    "plt.show()\n"
   ]
  },
  {
   "cell_type": "code",
   "execution_count": null,
   "metadata": {},
   "outputs": [],
   "source": []
  }
 ],
 "metadata": {
  "kernelspec": {
   "display_name": "Python 2",
   "language": "python",
   "name": "python2"
  },
  "language_info": {
   "codemirror_mode": {
    "name": "ipython",
    "version": 2
   },
   "file_extension": ".py",
   "mimetype": "text/x-python",
   "name": "python",
   "nbconvert_exporter": "python",
   "pygments_lexer": "ipython2",
   "version": "2.7.6"
  }
 },
 "nbformat": 4,
 "nbformat_minor": 0
}
